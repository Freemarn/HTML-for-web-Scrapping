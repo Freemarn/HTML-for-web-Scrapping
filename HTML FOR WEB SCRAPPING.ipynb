{
 "cells": [
  {
   "cell_type": "markdown",
   "metadata": {},
   "source": [
    "<table>\n",
    "    <tr>\n",
    "        <td>Pizza place</td>\n",
    "        <td>Orders</td>\n",
    "        <td>Slices</td>\n",
    "    </tr>\n",
    "    <tr>\n",
    "        <td>Domino's Pizza</td>\n",
    "        <td>20</td>\n",
    "        <td>12</td>\n",
    "    </tr>\n",
    "    <tr>\n",
    "        <td>Grandpa's Pizza</td>\n",
    "        <td>40</td>\n",
    "        <td>24</td>\n",
    "    </tr>\n",
    "</table>"
   ]
  },
  {
   "cell_type": "code",
   "execution_count": null,
   "metadata": {},
   "outputs": [],
   "source": []
  },
  {
   "cell_type": "markdown",
   "metadata": {},
   "source": [
    "## Web Scraping using Python And Beautiful Soup"
   ]
  },
  {
   "cell_type": "markdown",
   "metadata": {},
   "source": [
    "<!Doctype html>\n",
    "<html>\n",
    "    <head>\n",
    "        <title>Title Page</title>\n",
    "    </head>\n",
    "    <body>\n",
    "        <h3><b id = \"boldest\">Lebron james</b><h3>\n",
    "        <p> salary: 34,000$ </p>\n",
    "        <h3>Curry Kelvin</h3>\n",
    "        <p> salary: 20, 000$ </p>\n",
    "        <h3>Schelly Manoid<h3>\n",
    "        <p> salary: 15, 000$</p>\n",
    "    </body>\n",
    "</html>"
   ]
  },
  {
   "cell_type": "code",
   "execution_count": 10,
   "metadata": {},
   "outputs": [
    {
     "ename": "SyntaxError",
     "evalue": "invalid syntax (<ipython-input-10-9554bd0bed0a>, line 1)",
     "output_type": "error",
     "traceback": [
      "\u001b[1;36m  File \u001b[1;32m\"<ipython-input-10-9554bd0bed0a>\"\u001b[1;36m, line \u001b[1;32m1\u001b[0m\n\u001b[1;33m    <!Doctype html>\u001b[0m\n\u001b[1;37m    ^\u001b[0m\n\u001b[1;31mSyntaxError\u001b[0m\u001b[1;31m:\u001b[0m invalid syntax\n"
     ]
    }
   ],
   "source": [
    "<!Doctype html>\n",
    "<html>\n",
    "    <head>\n",
    "        <title>Title Page</title>\n",
    "    </head>\n",
    "    <body>\n",
    "        <h3><b id = \"boldest\">Lebron james</b><h3>\n",
    "        <p> salary: 34,000$ </p>\n",
    "        <h3>Curry Kelvin</h3>\n",
    "        <p> salary: 20, 000$ </p>\n",
    "        <h3>Schelly Manoid<h3>\n",
    "        <p> salary: 15, 000$</p>\n",
    "    </body>\n",
    "</html>"
   ]
  },
  {
   "cell_type": "code",
   "execution_count": 11,
   "metadata": {},
   "outputs": [],
   "source": [
    "pret =\"sculia\""
   ]
  },
  {
   "cell_type": "code",
   "execution_count": 6,
   "metadata": {},
   "outputs": [
    {
     "name": "stdout",
     "output_type": "stream",
     "text": [
      "sculia\n"
     ]
    }
   ],
   "source": [
    "print(pret)"
   ]
  },
  {
   "cell_type": "code",
   "execution_count": 1,
   "metadata": {},
   "outputs": [],
   "source": [
    "import bs4 as BeautifulSoup"
   ]
  },
  {
   "cell_type": "code",
   "execution_count": null,
   "metadata": {},
   "outputs": [],
   "source": []
  },
  {
   "cell_type": "code",
   "execution_count": null,
   "metadata": {},
   "outputs": [],
   "source": [
    "title_tag = "
   ]
  }
 ],
 "metadata": {
  "kernelspec": {
   "display_name": "Python 3",
   "language": "python",
   "name": "python3"
  },
  "language_info": {
   "codemirror_mode": {
    "name": "ipython",
    "version": 3
   },
   "file_extension": ".py",
   "mimetype": "text/x-python",
   "name": "python",
   "nbconvert_exporter": "python",
   "pygments_lexer": "ipython3",
   "version": "3.7.3"
  }
 },
 "nbformat": 4,
 "nbformat_minor": 2
}
